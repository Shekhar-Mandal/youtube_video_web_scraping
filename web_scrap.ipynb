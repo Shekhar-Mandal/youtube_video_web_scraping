{
 "cells": [
  {
   "cell_type": "code",
   "execution_count": null,
   "id": "283f5854-b945-402d-9e78-2bfa63456235",
   "metadata": {},
   "outputs": [],
   "source": [
    "\n",
    "# Course title \n",
    "\n",
    "# /html/body/div[1]/div/div[1]/div/div/div[2]/div/div[12]/div[3]/h3/a\n",
    "# /html/body/div[1]/div/div[1]/div/div/div[2]/div/div[11]/div[3]/h3/a\n",
    "\n",
    "\n",
    "# course duration\n",
    "# /html/body/div[1]/div/div[1]/div/div/div[2]/div/div[12]/div[3]/div[2]/div/span[2]\n",
    "\n",
    "# old price \n",
    "# /html/body/div[1]/div/div[1]/div/div/div[2]/div/div[12]/div[4]/div/div[1]/span/del/span\n",
    "\n",
    "# new price \n",
    "# /html/body/div[1]/div/div[1]/div/div/div[2]/div/div[12]/div[4]/div/div[1]/span/ins/span"
   ]
  },
  {
   "cell_type": "code",
   "execution_count": 2,
   "id": "2baf5142-e3bb-4f04-8a4f-0ed10de48465",
   "metadata": {},
   "outputs": [],
   "source": [
    "from selenium import webdriver\n",
    "from selenium.webdriver.common.by import By\n",
    "import time\n",
    "\n",
    "\n",
    "\n",
    "driver = webdriver.Chrome()\n",
    "\n",
    "driver.get(f\"https://sipalaya.com/all-courses-2/\")\n",
    "\n",
    "\n"
   ]
  },
  {
   "cell_type": "code",
   "execution_count": 7,
   "id": "b3447b99-d9bf-4aad-adab-49c55ab1069c",
   "metadata": {},
   "outputs": [
    {
     "name": "stdout",
     "output_type": "stream",
     "text": [
      "Web Design | HTML , CSS & JS | 2 Months\n",
      "100h\n",
      "Rs.14,999\n",
      "Rs.9,999\n",
      "_________________________________________________________________\n",
      "\n",
      "UI / UX Design | 2.5 Months\n",
      "100h\n",
      "Rs.19,999\n",
      "Rs.14,999\n",
      "_________________________________________________________________\n",
      "\n",
      "App Development with Flutter | 2.5 Months\n",
      "100h\n",
      "Rs.19,999\n",
      "Rs.14,999\n",
      "_________________________________________________________________\n",
      "\n",
      "Java With Spring & Hibernate | 3 Months\n",
      "100h\n",
      "Rs.24,999\n",
      "Rs.19,999\n",
      "_________________________________________________________________\n",
      "\n",
      "PHP With Laravel | 2.5 Months\n",
      "100h\n",
      "Rs.19,999\n",
      "Rs.14,999\n",
      "_________________________________________________________________\n",
      "\n",
      "Artificial Intelligence: Shape Future Innovations | 2.5 Months\n",
      "100h\n",
      "Rs.19,999\n",
      "Rs.14,999\n",
      "_________________________________________________________________\n",
      "\n",
      "Graphic Design | 2.5 Months\n",
      "100h\n",
      "Rs.19,999\n",
      "Rs.14,999\n",
      "_________________________________________________________________\n",
      "\n",
      "Python With Data Science | 3 Months\n",
      "100h\n",
      "Rs.24,999\n",
      "Rs.19,999\n",
      "_________________________________________________________________\n",
      "\n",
      "Frontend Development With React JS | 2.5 Months\n",
      "97h\n",
      "Rs.19,999\n",
      "Rs.14,999\n",
      "_________________________________________________________________\n",
      "\n",
      "MERN Stack | 3 Months\n",
      "100h\n",
      "Rs.29,999\n",
      "Rs.19,999\n",
      "_________________________________________________________________\n",
      "\n",
      "Full Stack Web Development in Python With Django | 3 Months\n",
      "100h\n",
      "Rs.19,999\n",
      "Rs.14,999\n",
      "_________________________________________________________________\n",
      "\n",
      "Physical / Online Digital Marketing Training | 2.5 Months |\n",
      "100h\n",
      "Rs.19,999\n",
      "Rs.14,999\n",
      "_________________________________________________________________\n",
      "\n"
     ]
    }
   ],
   "source": [
    "import numpy as np\n",
    "\n",
    "\n",
    "title=[]\n",
    "old_price=[]\n",
    "new_price=[]\n",
    "durations=[]\n",
    "\n",
    "\n",
    "for i in range(1,13):\n",
    "    try:\n",
    "        titles=driver.find_element(By.XPATH,f'/html/body/div[1]/div/div[1]/div/div/div[2]/div/div[{i}]/div[3]/h3/a').text\n",
    "        title.append(titles)\n",
    "        print(titles)\n",
    "    except:\n",
    "        title.append(np.nan)\n",
    "    try:\n",
    "        course_time=driver.find_element(By.XPATH,f'/html/body/div[1]/div/div[1]/div/div/div[2]/div/div[{i}]/div[3]/div[2]/div/span[2]').text\n",
    "        durations.append(course_time)\n",
    "        print(course_time)\n",
    "    except:\n",
    "         durations.append(np.nan)\n",
    "\n",
    "    try:\n",
    "        old_prices=driver.find_element(By.XPATH,f'/html/body/div[1]/div/div[1]/div/div/div[2]/div/div[{i}]/div[4]/div/div[1]/span/del/span').text\n",
    "        old_price.append(old_prices)\n",
    "        print(old_prices)\n",
    "    except:\n",
    "        old_price.append(np.nan)\n",
    "\n",
    "    try:\n",
    "        new_prices=driver.find_element(By.XPATH,f'/html/body/div[1]/div/div[1]/div/div/div[2]/div/div[{i}]/div[4]/div/div[1]/span/ins/span').text\n",
    "        new_price.append(new_prices)\n",
    "        print(new_prices)\n",
    "    except:\n",
    "        new_price.append(np.nan)\n",
    "    print(\"_________________________________________________________________\\n\")"
   ]
  },
  {
   "cell_type": "code",
   "execution_count": 8,
   "id": "e92b27c7-2409-46e0-be2d-12d010669a89",
   "metadata": {},
   "outputs": [
    {
     "data": {
      "text/plain": [
       "['Rs.9,999',\n",
       " 'Rs.14,999',\n",
       " 'Rs.14,999',\n",
       " 'Rs.19,999',\n",
       " 'Rs.14,999',\n",
       " 'Rs.14,999',\n",
       " 'Rs.14,999',\n",
       " 'Rs.19,999',\n",
       " 'Rs.14,999',\n",
       " 'Rs.19,999',\n",
       " 'Rs.14,999',\n",
       " 'Rs.14,999']"
      ]
     },
     "execution_count": 8,
     "metadata": {},
     "output_type": "execute_result"
    }
   ],
   "source": [
    "new_price"
   ]
  },
  {
   "cell_type": "code",
   "execution_count": 9,
   "id": "a0dbb2f1-1292-4661-ba07-1b830dc0d75a",
   "metadata": {},
   "outputs": [
    {
     "data": {
      "text/plain": [
       "['Rs.14,999',\n",
       " 'Rs.19,999',\n",
       " 'Rs.19,999',\n",
       " 'Rs.24,999',\n",
       " 'Rs.19,999',\n",
       " 'Rs.19,999',\n",
       " 'Rs.19,999',\n",
       " 'Rs.24,999',\n",
       " 'Rs.19,999',\n",
       " 'Rs.29,999',\n",
       " 'Rs.19,999',\n",
       " 'Rs.19,999']"
      ]
     },
     "execution_count": 9,
     "metadata": {},
     "output_type": "execute_result"
    }
   ],
   "source": [
    "old_price"
   ]
  },
  {
   "cell_type": "code",
   "execution_count": 10,
   "id": "c3f65ef3-a4b8-44e0-8bae-550ff1501233",
   "metadata": {},
   "outputs": [
    {
     "data": {
      "text/plain": [
       "['100h',\n",
       " '100h',\n",
       " '100h',\n",
       " '100h',\n",
       " '100h',\n",
       " '100h',\n",
       " '100h',\n",
       " '100h',\n",
       " '97h',\n",
       " '100h',\n",
       " '100h',\n",
       " '100h']"
      ]
     },
     "execution_count": 10,
     "metadata": {},
     "output_type": "execute_result"
    }
   ],
   "source": [
    "durations"
   ]
  },
  {
   "cell_type": "code",
   "execution_count": 11,
   "id": "6d7cfbfd-610d-4cf7-be82-65496ce55285",
   "metadata": {},
   "outputs": [
    {
     "data": {
      "text/plain": [
       "['Web Design | HTML , CSS & JS | 2 Months',\n",
       " 'UI / UX Design | 2.5 Months',\n",
       " 'App Development with Flutter | 2.5 Months',\n",
       " 'Java With Spring & Hibernate | 3 Months',\n",
       " 'PHP With Laravel | 2.5 Months',\n",
       " 'Artificial Intelligence: Shape Future Innovations | 2.5 Months',\n",
       " 'Graphic Design | 2.5 Months',\n",
       " 'Python With Data Science | 3 Months',\n",
       " 'Frontend Development With React JS | 2.5 Months',\n",
       " 'MERN Stack | 3 Months',\n",
       " 'Full Stack Web Development in Python With Django | 3 Months',\n",
       " 'Physical / Online Digital Marketing Training | 2.5 Months |']"
      ]
     },
     "execution_count": 11,
     "metadata": {},
     "output_type": "execute_result"
    }
   ],
   "source": [
    " title"
   ]
  },
  {
   "cell_type": "markdown",
   "id": "7cef718c-dff7-4bf2-8564-8614d8415f0e",
   "metadata": {},
   "source": [
    "# conbvert the lists intpo the dataframe "
   ]
  },
  {
   "cell_type": "code",
   "execution_count": 12,
   "id": "b29a9610-adea-4e6f-95f0-eda95e688a82",
   "metadata": {},
   "outputs": [
    {
     "data": {
      "text/plain": [
       "{'title': ['Web Design | HTML , CSS & JS | 2 Months',\n",
       "  'UI / UX Design | 2.5 Months',\n",
       "  'App Development with Flutter | 2.5 Months',\n",
       "  'Java With Spring & Hibernate | 3 Months',\n",
       "  'PHP With Laravel | 2.5 Months',\n",
       "  'Artificial Intelligence: Shape Future Innovations | 2.5 Months',\n",
       "  'Graphic Design | 2.5 Months',\n",
       "  'Python With Data Science | 3 Months',\n",
       "  'Frontend Development With React JS | 2.5 Months',\n",
       "  'MERN Stack | 3 Months',\n",
       "  'Full Stack Web Development in Python With Django | 3 Months',\n",
       "  'Physical / Online Digital Marketing Training | 2.5 Months |'],\n",
       " 'durations': ['100h',\n",
       "  '100h',\n",
       "  '100h',\n",
       "  '100h',\n",
       "  '100h',\n",
       "  '100h',\n",
       "  '100h',\n",
       "  '100h',\n",
       "  '97h',\n",
       "  '100h',\n",
       "  '100h',\n",
       "  '100h'],\n",
       " 'old_price': ['Rs.14,999',\n",
       "  'Rs.19,999',\n",
       "  'Rs.19,999',\n",
       "  'Rs.24,999',\n",
       "  'Rs.19,999',\n",
       "  'Rs.19,999',\n",
       "  'Rs.19,999',\n",
       "  'Rs.24,999',\n",
       "  'Rs.19,999',\n",
       "  'Rs.29,999',\n",
       "  'Rs.19,999',\n",
       "  'Rs.19,999'],\n",
       " 'new_price': ['Rs.9,999',\n",
       "  'Rs.14,999',\n",
       "  'Rs.14,999',\n",
       "  'Rs.19,999',\n",
       "  'Rs.14,999',\n",
       "  'Rs.14,999',\n",
       "  'Rs.14,999',\n",
       "  'Rs.19,999',\n",
       "  'Rs.14,999',\n",
       "  'Rs.19,999',\n",
       "  'Rs.14,999',\n",
       "  'Rs.14,999']}"
      ]
     },
     "execution_count": 12,
     "metadata": {},
     "output_type": "execute_result"
    }
   ],
   "source": [
    "#!pip install pandas \n",
    "\n",
    "import pandas as pd\n",
    "\n",
    "dicts={'title':title,'durations':durations,'old_price':old_price,'new_price':new_price}\n",
    "dicts"
   ]
  },
  {
   "cell_type": "code",
   "execution_count": 14,
   "id": "e2bb95e8-a3a4-415d-8029-f89c19acc53c",
   "metadata": {},
   "outputs": [],
   "source": [
    "df=pd.DataFrame(dicts)"
   ]
  },
  {
   "cell_type": "code",
   "execution_count": 17,
   "id": "40d731a9-c8dd-4200-9aa9-e06d087a4847",
   "metadata": {},
   "outputs": [
    {
     "data": {
      "text/html": [
       "<div>\n",
       "<style scoped>\n",
       "    .dataframe tbody tr th:only-of-type {\n",
       "        vertical-align: middle;\n",
       "    }\n",
       "\n",
       "    .dataframe tbody tr th {\n",
       "        vertical-align: top;\n",
       "    }\n",
       "\n",
       "    .dataframe thead th {\n",
       "        text-align: right;\n",
       "    }\n",
       "</style>\n",
       "<table border=\"1\" class=\"dataframe\">\n",
       "  <thead>\n",
       "    <tr style=\"text-align: right;\">\n",
       "      <th></th>\n",
       "      <th>title</th>\n",
       "      <th>durations</th>\n",
       "      <th>old_price</th>\n",
       "      <th>new_price</th>\n",
       "    </tr>\n",
       "  </thead>\n",
       "  <tbody>\n",
       "    <tr>\n",
       "      <th>0</th>\n",
       "      <td>Web Design | HTML , CSS &amp; JS | 2 Months</td>\n",
       "      <td>100h</td>\n",
       "      <td>Rs.14,999</td>\n",
       "      <td>Rs.9,999</td>\n",
       "    </tr>\n",
       "    <tr>\n",
       "      <th>1</th>\n",
       "      <td>UI / UX Design | 2.5 Months</td>\n",
       "      <td>100h</td>\n",
       "      <td>Rs.19,999</td>\n",
       "      <td>Rs.14,999</td>\n",
       "    </tr>\n",
       "    <tr>\n",
       "      <th>2</th>\n",
       "      <td>App Development with Flutter | 2.5 Months</td>\n",
       "      <td>100h</td>\n",
       "      <td>Rs.19,999</td>\n",
       "      <td>Rs.14,999</td>\n",
       "    </tr>\n",
       "    <tr>\n",
       "      <th>3</th>\n",
       "      <td>Java With Spring &amp; Hibernate | 3 Months</td>\n",
       "      <td>100h</td>\n",
       "      <td>Rs.24,999</td>\n",
       "      <td>Rs.19,999</td>\n",
       "    </tr>\n",
       "    <tr>\n",
       "      <th>4</th>\n",
       "      <td>PHP With Laravel | 2.5 Months</td>\n",
       "      <td>100h</td>\n",
       "      <td>Rs.19,999</td>\n",
       "      <td>Rs.14,999</td>\n",
       "    </tr>\n",
       "    <tr>\n",
       "      <th>5</th>\n",
       "      <td>Artificial Intelligence: Shape Future Innovati...</td>\n",
       "      <td>100h</td>\n",
       "      <td>Rs.19,999</td>\n",
       "      <td>Rs.14,999</td>\n",
       "    </tr>\n",
       "    <tr>\n",
       "      <th>6</th>\n",
       "      <td>Graphic Design | 2.5 Months</td>\n",
       "      <td>100h</td>\n",
       "      <td>Rs.19,999</td>\n",
       "      <td>Rs.14,999</td>\n",
       "    </tr>\n",
       "    <tr>\n",
       "      <th>7</th>\n",
       "      <td>Python With Data Science | 3 Months</td>\n",
       "      <td>100h</td>\n",
       "      <td>Rs.24,999</td>\n",
       "      <td>Rs.19,999</td>\n",
       "    </tr>\n",
       "    <tr>\n",
       "      <th>8</th>\n",
       "      <td>Frontend Development With React JS | 2.5 Months</td>\n",
       "      <td>97h</td>\n",
       "      <td>Rs.19,999</td>\n",
       "      <td>Rs.14,999</td>\n",
       "    </tr>\n",
       "    <tr>\n",
       "      <th>9</th>\n",
       "      <td>MERN Stack | 3 Months</td>\n",
       "      <td>100h</td>\n",
       "      <td>Rs.29,999</td>\n",
       "      <td>Rs.19,999</td>\n",
       "    </tr>\n",
       "    <tr>\n",
       "      <th>10</th>\n",
       "      <td>Full Stack Web Development in Python With Djan...</td>\n",
       "      <td>100h</td>\n",
       "      <td>Rs.19,999</td>\n",
       "      <td>Rs.14,999</td>\n",
       "    </tr>\n",
       "    <tr>\n",
       "      <th>11</th>\n",
       "      <td>Physical / Online Digital Marketing Training |...</td>\n",
       "      <td>100h</td>\n",
       "      <td>Rs.19,999</td>\n",
       "      <td>Rs.14,999</td>\n",
       "    </tr>\n",
       "  </tbody>\n",
       "</table>\n",
       "</div>"
      ],
      "text/plain": [
       "                                                title durations  old_price  \\\n",
       "0             Web Design | HTML , CSS & JS | 2 Months      100h  Rs.14,999   \n",
       "1                         UI / UX Design | 2.5 Months      100h  Rs.19,999   \n",
       "2           App Development with Flutter | 2.5 Months      100h  Rs.19,999   \n",
       "3             Java With Spring & Hibernate | 3 Months      100h  Rs.24,999   \n",
       "4                       PHP With Laravel | 2.5 Months      100h  Rs.19,999   \n",
       "5   Artificial Intelligence: Shape Future Innovati...      100h  Rs.19,999   \n",
       "6                         Graphic Design | 2.5 Months      100h  Rs.19,999   \n",
       "7                 Python With Data Science | 3 Months      100h  Rs.24,999   \n",
       "8     Frontend Development With React JS | 2.5 Months       97h  Rs.19,999   \n",
       "9                               MERN Stack | 3 Months      100h  Rs.29,999   \n",
       "10  Full Stack Web Development in Python With Djan...      100h  Rs.19,999   \n",
       "11  Physical / Online Digital Marketing Training |...      100h  Rs.19,999   \n",
       "\n",
       "    new_price  \n",
       "0    Rs.9,999  \n",
       "1   Rs.14,999  \n",
       "2   Rs.14,999  \n",
       "3   Rs.19,999  \n",
       "4   Rs.14,999  \n",
       "5   Rs.14,999  \n",
       "6   Rs.14,999  \n",
       "7   Rs.19,999  \n",
       "8   Rs.14,999  \n",
       "9   Rs.19,999  \n",
       "10  Rs.14,999  \n",
       "11  Rs.14,999  "
      ]
     },
     "execution_count": 17,
     "metadata": {},
     "output_type": "execute_result"
    }
   ],
   "source": [
    "df"
   ]
  },
  {
   "cell_type": "code",
   "execution_count": 16,
   "id": "4b8b70c2-5c64-491a-875d-c066095e93cb",
   "metadata": {},
   "outputs": [],
   "source": [
    "df.to_csv('sipalaye_courses.csv')"
   ]
  },
  {
   "cell_type": "code",
   "execution_count": 1,
   "id": "ce259fc0-de8a-4284-974d-26493f206af1",
   "metadata": {},
   "outputs": [
    {
     "ename": "NameError",
     "evalue": "name 'df' is not defined",
     "output_type": "error",
     "traceback": [
      "\u001b[1;31m---------------------------------------------------------------------------\u001b[0m",
      "\u001b[1;31mNameError\u001b[0m                                 Traceback (most recent call last)",
      "Cell \u001b[1;32mIn[1], line 2\u001b[0m\n\u001b[0;32m      1\u001b[0m \u001b[38;5;66;03m# Convert DataFrame to JSON and save to a file\u001b[39;00m\n\u001b[1;32m----> 2\u001b[0m \u001b[43mdf\u001b[49m\u001b[38;5;241m.\u001b[39mto_json(\u001b[38;5;124m'\u001b[39m\u001b[38;5;124mdata.json\u001b[39m\u001b[38;5;124m'\u001b[39m, orient\u001b[38;5;241m=\u001b[39m\u001b[38;5;124m'\u001b[39m\u001b[38;5;124mrecords\u001b[39m\u001b[38;5;124m'\u001b[39m, lines\u001b[38;5;241m=\u001b[39m\u001b[38;5;28;01mFalse\u001b[39;00m)\n",
      "\u001b[1;31mNameError\u001b[0m: name 'df' is not defined"
     ]
    }
   ],
   "source": [
    "# Convert DataFrame to JSON and save to a file\n",
    "df.to_json('data.json', orient='records', lines=False)"
   ]
  },
  {
   "cell_type": "code",
   "execution_count": null,
   "id": "2e81b16d-6054-4e7b-af0a-636703ab947d",
   "metadata": {},
   "outputs": [],
   "source": [
    "# /html/body/div[4]/div/div[2]/div[1]/div/div[1]/div[2]/div[40]/div/div/div[2]/div[2]/a\n",
    "# /html/body/div[4]/div/div[2]/div[1]/div/div[1]/div[2]/div[38]/div/div/div[2]/div[2]"
   ]
  }
 ],
 "metadata": {
  "kernelspec": {
   "display_name": "Python 3 (ipykernel)",
   "language": "python",
   "name": "python3"
  },
  "language_info": {
   "codemirror_mode": {
    "name": "ipython",
    "version": 3
   },
   "file_extension": ".py",
   "mimetype": "text/x-python",
   "name": "python",
   "nbconvert_exporter": "python",
   "pygments_lexer": "ipython3",
   "version": "3.12.1"
  }
 },
 "nbformat": 4,
 "nbformat_minor": 5
}
